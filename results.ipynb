gaussian
	0.1 ok
	0.01 ok
	0.2 ok
	0.05 ok
	
