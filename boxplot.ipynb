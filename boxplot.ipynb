{
 "cells": [
  {
   "cell_type": "code",
   "execution_count": 1,
   "metadata": {},
   "outputs": [],
   "source": [
    "import numpy as np\n",
    "import matplotlib.pyplot as plt\n",
    "import tensorflow as tf"
   ]
  },
  {
   "cell_type": "code",
   "execution_count": 2,
   "metadata": {},
   "outputs": [],
   "source": [
    "y_val = np.load(\"/home/notchla/Documents/mias_y_val.npy\", allow_pickle=True)\n",
    "x_val = np.load(\"/home/notchla/Documents/mias_xval_poisson_gauss01.npy\", allow_pickle=True)\n",
    "recon_perc = np.load(\"/home/notchla/Documents/mias_recon_poisson_gauss01.npy\", allow_pickle = True)\n",
    "recon_edge = np.load(\"/home/notchla/Documents/edge_mias_recon_poisson_gauss01.npy\", allow_pickle = True)\n"
   ]
  },
  {
   "cell_type": "code",
   "execution_count": 3,
   "metadata": {},
   "outputs": [],
   "source": [
    "x_val = tf.cast(x_val, \"float32\")\n",
    "y_val = tf.cast(y_val, \"float32\")\n",
    "recon_perc = tf.cast(recon_perc, \"float32\")\n",
    "recon_edge = tf.cast(recon_edge, \"float32\")"
   ]
  },
  {
   "cell_type": "code",
   "execution_count": 4,
   "metadata": {},
   "outputs": [
    {
     "name": "stdout",
     "output_type": "stream",
     "text": [
      "tf.Tensor(0.086650476, shape=(), dtype=float32) tf.Tensor(0.9254835, shape=(), dtype=float32) tf.Tensor(0.91295534, shape=(), dtype=float32)\n"
     ]
    }
   ],
   "source": [
    "ssim_noise = tf.image.ssim(y_val, x_val, max_val = 1.0)\n",
    "ssim_perc = tf.image.ssim(y_val, recon_perc, max_val = 1.0)\n",
    "ssim_edge = tf.image.ssim(y_val, recon_edge, max_val = 1.0)\n",
    "\n",
    "print(tf.reduce_mean(ssim_noise), tf.reduce_mean(ssim_perc), tf.reduce_mean(ssim_edge))\n"
   ]
  },
  {
   "cell_type": "code",
   "execution_count": 14,
   "metadata": {},
   "outputs": [
    {
     "data": {
      "image/png": "[encoded data removed]",
      "text/plain": "<Figure size 432x288 with 1 Axes>"
     },
     "metadata": {
      "needs_background": "light"
     },
     "output_type": "display_data"
    }
   ],
   "source": [
    "fig, ax = plt.subplots()\n",
    "ax.set_title(\"SSIM denoising\")\n",
    "plt.boxplot([ssim_noise, ssim_edge, ssim_perc])\n",
    "plt.savefig(\"/home/notchla/Documents/boxplot\", dpi = 300, bbox_inches=\"tight\")"
   ]
  },
  {
   "cell_type": "code",
   "execution_count": null,
   "metadata": {},
   "outputs": [],
   "source": []
  }
 ],
 "metadata": {
  "kernelspec": {
   "display_name": "Python 3.8.5 64-bit ('base': conda)",
   "metadata": {
    "interpreter": {
     "hash": "422f307374e1b811fc2ffbcde8eb33a06d29f951bfa69893de3a61937763dcff"
    }
   },
   "name": "python3"
  },
  "language_info": {
   "codemirror_mode": {
    "name": "ipython",
    "version": 3
   },
   "file_extension": ".py",
   "mimetype": "text/x-python",
   "name": "python",
   "nbconvert_exporter": "python",
   "pygments_lexer": "ipython3",
   "version": "3.8.5"
  },
  "orig_nbformat": 2
 },
 "nbformat": 4,
 "nbformat_minor": 2
}